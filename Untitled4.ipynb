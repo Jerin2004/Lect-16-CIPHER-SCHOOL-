{
  "nbformat": 4,
  "nbformat_minor": 0,
  "metadata": {
    "colab": {
      "provenance": [],
      "authorship_tag": "ABX9TyPCnmPIBzkAZXzmtprKnxnT",
      "include_colab_link": true
    },
    "kernelspec": {
      "name": "python3",
      "display_name": "Python 3"
    },
    "language_info": {
      "name": "python"
    }
  },
  "cells": [
    {
      "cell_type": "markdown",
      "metadata": {
        "id": "view-in-github",
        "colab_type": "text"
      },
      "source": [
        "<a href=\"https://colab.research.google.com/github/Jerin2004/Lect-16-CIPHER-SCHOOL-/blob/main/Untitled4.ipynb\" target=\"_parent\"><img src=\"https://colab.research.google.com/assets/colab-badge.svg\" alt=\"Open In Colab\"/></a>"
      ]
    },
    {
      "cell_type": "markdown",
      "source": [
        "Working with Data usng Pandas"
      ],
      "metadata": {
        "id": "leVfVMLLqMJb"
      }
    },
    {
      "cell_type": "code",
      "execution_count": 1,
      "metadata": {
        "colab": {
          "base_uri": "https://localhost:8080/"
        },
        "id": "7GbjfkeAqIwl",
        "outputId": "622d4524-aaf3-4168-92b7-dfc8e49c7a9e"
      },
      "outputs": [
        {
          "output_type": "stream",
          "name": "stdout",
          "text": [
            "      Name  Age      City\n",
            "0    Alice   25  New York\n",
            "1      Bob   30    London\n",
            "2  Charlie   28     Paris\n"
          ]
        }
      ],
      "source": [
        "import pandas as pd\n",
        "\n",
        "# Creating a DataFrame from a dictionary\n",
        "data = {'Name': ['Alice', 'Bob', 'Charlie'],\n",
        "        'Age': [25, 30, 28],\n",
        "        'City': ['New York', 'London', 'Paris']}\n",
        "\n",
        "df = pd.DataFrame(data)\n",
        "\n",
        "print(df)"
      ]
    },
    {
      "cell_type": "markdown",
      "source": [
        "Creating a DataFrame from a List of Dictionaries"
      ],
      "metadata": {
        "id": "UVcFvj-5q_ck"
      }
    },
    {
      "cell_type": "code",
      "source": [
        "data = [\n",
        "    {'Name': 'Alice', 'Age': 25, 'City': 'New York'},\n",
        "    {'Name': 'Bob', 'Age': 30, 'City': 'London'},\n",
        "    {'Name': 'Charlie', 'Age': 28, 'City': 'Paris'}\n",
        "]\n",
        "\n",
        "df = pd.DataFrame(data)\n",
        "\n",
        "print(df)\n"
      ],
      "metadata": {
        "colab": {
          "base_uri": "https://localhost:8080/"
        },
        "id": "5gkTqiEgqwh4",
        "outputId": "548ba351-b15d-4bb5-accd-8e6a7626a03b"
      },
      "execution_count": 2,
      "outputs": [
        {
          "output_type": "stream",
          "name": "stdout",
          "text": [
            "      Name  Age      City\n",
            "0    Alice   25  New York\n",
            "1      Bob   30    London\n",
            "2  Charlie   28     Paris\n"
          ]
        }
      ]
    },
    {
      "cell_type": "markdown",
      "source": [
        "Creating a DataFrame from a CSV file"
      ],
      "metadata": {
        "id": "ma-oU1VyrWl2"
      }
    },
    {
      "cell_type": "code",
      "source": [
        "# Assuming 'data.csv' is a csv file in current directory\n",
        "df = pd.read_csv('dataset.csv')\n",
        "\n",
        "print(df)"
      ],
      "metadata": {
        "id": "LwSCPcdJrk5X"
      },
      "execution_count": null,
      "outputs": []
    },
    {
      "cell_type": "markdown",
      "source": [
        "Viewing Data"
      ],
      "metadata": {
        "id": "2Do2GDVErs6d"
      }
    },
    {
      "cell_type": "code",
      "source": [
        "# Display the first few rows(5)\n",
        "print(df.head())"
      ],
      "metadata": {
        "id": "1G6HIPkWrrZM"
      },
      "execution_count": null,
      "outputs": []
    },
    {
      "cell_type": "code",
      "source": [
        "# Display the last few rows\n",
        "print(df.tail())"
      ],
      "metadata": {
        "id": "_q3gzAo9sYCJ"
      },
      "execution_count": null,
      "outputs": []
    },
    {
      "cell_type": "code",
      "source": [
        "# Getting information about the DataFrame\n",
        "print(df.info())"
      ],
      "metadata": {
        "id": "YL_mhxJ5sgKl"
      },
      "execution_count": null,
      "outputs": []
    },
    {
      "cell_type": "code",
      "source": [
        "# Descriptive Statistics\n",
        "print(df.describe())"
      ],
      "metadata": {
        "id": "YoslsgB8sofJ"
      },
      "execution_count": null,
      "outputs": []
    },
    {
      "cell_type": "markdown",
      "source": [
        "Selecting Column"
      ],
      "metadata": {
        "id": "YC4bY86Hs33G"
      }
    },
    {
      "cell_type": "code",
      "source": [
        "# Selecting the single column\n",
        "print(df['Name'])"
      ],
      "metadata": {
        "id": "LcaAHXKOsvsK"
      },
      "execution_count": null,
      "outputs": []
    },
    {
      "cell_type": "code",
      "source": [
        "# Selectiong multiple column\n",
        "print(df[['Name', 'Age']])"
      ],
      "metadata": {
        "id": "QkNKDA2qtCDI"
      },
      "execution_count": null,
      "outputs": []
    },
    {
      "cell_type": "markdown",
      "source": [
        "Filtering Rows"
      ],
      "metadata": {
        "id": "y72-R6MwtIhu"
      }
    },
    {
      "cell_type": "code",
      "source": [
        "# Filtering rows based on a condition\n",
        "print(df[df['Age'] > 30])"
      ],
      "metadata": {
        "id": "tkWnFSv9tKhF"
      },
      "execution_count": null,
      "outputs": []
    },
    {
      "cell_type": "markdown",
      "source": [
        "Adding new column"
      ],
      "metadata": {
        "id": "AmdvCxvMtcsK"
      }
    },
    {
      "cell_type": "code",
      "source": [
        "# Adding a new column\n",
        "df['Country'] = 'USA'\n",
        "\n",
        "print(df)"
      ],
      "metadata": {
        "id": "Tbyv0XMstU0O"
      },
      "execution_count": null,
      "outputs": []
    }
  ]
}